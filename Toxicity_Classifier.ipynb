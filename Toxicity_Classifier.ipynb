{
  "cells": [
    {
      "cell_type": "code",
      "execution_count": 40,
      "metadata": {
        "id": "OU7SWI8xJh3a"
      },
      "outputs": [],
      "source": [
        "import pandas as pd\n",
        "import numpy as np\n",
        "import matplotlib.pyplot as plt \n",
        "%matplotlib inline"
      ]
    },
    {
      "cell_type": "markdown",
      "metadata": {},
      "source": [
        "Dataset - https://www.kaggle.com/datasets/ashwiniyer176/toxic-tweets-dataset?resource=download"
      ]
    },
    {
      "cell_type": "code",
      "execution_count": 41,
      "metadata": {
        "id": "ux8Dn7XpMW1M"
      },
      "outputs": [],
      "source": [
        "data = pd.read_csv(\"FinalBalancedDataset.csv\")"
      ]
    },
    {
      "cell_type": "code",
      "execution_count": 42,
      "metadata": {
        "colab": {
          "base_uri": "https://localhost:8080/"
        },
        "id": "ZsQ9WzgJMil5",
        "outputId": "95954769-982d-4680-cc98-49f32bdfd985"
      },
      "outputs": [
        {
          "name": "stdout",
          "output_type": "stream",
          "text": [
            "<class 'pandas.core.frame.DataFrame'>\n",
            "RangeIndex: 56745 entries, 0 to 56744\n",
            "Data columns (total 3 columns):\n",
            " #   Column      Non-Null Count  Dtype \n",
            "---  ------      --------------  ----- \n",
            " 0   Unnamed: 0  56745 non-null  int64 \n",
            " 1   Toxicity    56745 non-null  int64 \n",
            " 2   tweet       56745 non-null  object\n",
            "dtypes: int64(2), object(1)\n",
            "memory usage: 1.3+ MB\n"
          ]
        }
      ],
      "source": [
        "data.info()"
      ]
    },
    {
      "cell_type": "code",
      "execution_count": 43,
      "metadata": {
        "colab": {
          "base_uri": "https://localhost:8080/",
          "height": 206
        },
        "id": "tW8F_G5mMkBe",
        "outputId": "c0d97990-5a76-46f3-a0cb-484fb10090ca"
      },
      "outputs": [
        {
          "data": {
            "text/html": [
              "<div>\n",
              "<style scoped>\n",
              "    .dataframe tbody tr th:only-of-type {\n",
              "        vertical-align: middle;\n",
              "    }\n",
              "\n",
              "    .dataframe tbody tr th {\n",
              "        vertical-align: top;\n",
              "    }\n",
              "\n",
              "    .dataframe thead th {\n",
              "        text-align: right;\n",
              "    }\n",
              "</style>\n",
              "<table border=\"1\" class=\"dataframe\">\n",
              "  <thead>\n",
              "    <tr style=\"text-align: right;\">\n",
              "      <th></th>\n",
              "      <th>Unnamed: 0</th>\n",
              "      <th>Toxicity</th>\n",
              "      <th>tweet</th>\n",
              "    </tr>\n",
              "  </thead>\n",
              "  <tbody>\n",
              "    <tr>\n",
              "      <th>0</th>\n",
              "      <td>0</td>\n",
              "      <td>0</td>\n",
              "      <td>@user when a father is dysfunctional and is s...</td>\n",
              "    </tr>\n",
              "    <tr>\n",
              "      <th>1</th>\n",
              "      <td>1</td>\n",
              "      <td>0</td>\n",
              "      <td>@user @user thanks for #lyft credit i can't us...</td>\n",
              "    </tr>\n",
              "    <tr>\n",
              "      <th>2</th>\n",
              "      <td>2</td>\n",
              "      <td>0</td>\n",
              "      <td>bihday your majesty</td>\n",
              "    </tr>\n",
              "    <tr>\n",
              "      <th>3</th>\n",
              "      <td>3</td>\n",
              "      <td>0</td>\n",
              "      <td>#model   i love u take with u all the time in ...</td>\n",
              "    </tr>\n",
              "    <tr>\n",
              "      <th>4</th>\n",
              "      <td>4</td>\n",
              "      <td>0</td>\n",
              "      <td>factsguide: society now    #motivation</td>\n",
              "    </tr>\n",
              "  </tbody>\n",
              "</table>\n",
              "</div>"
            ],
            "text/plain": [
              "   Unnamed: 0  Toxicity                                              tweet\n",
              "0           0         0   @user when a father is dysfunctional and is s...\n",
              "1           1         0  @user @user thanks for #lyft credit i can't us...\n",
              "2           2         0                                bihday your majesty\n",
              "3           3         0  #model   i love u take with u all the time in ...\n",
              "4           4         0             factsguide: society now    #motivation"
            ]
          },
          "execution_count": 43,
          "metadata": {},
          "output_type": "execute_result"
        }
      ],
      "source": [
        "data.head(5)"
      ]
    },
    {
      "cell_type": "code",
      "execution_count": 44,
      "metadata": {
        "id": "f21hV25RMmGn"
      },
      "outputs": [],
      "source": [
        "data = data.drop(\"Unnamed: 0\", axis=1)"
      ]
    },
    {
      "cell_type": "code",
      "execution_count": 45,
      "metadata": {
        "colab": {
          "base_uri": "https://localhost:8080/",
          "height": 206
        },
        "id": "0jw2yvTkMrSs",
        "outputId": "344a26f6-1a29-4c1e-cb16-f37284faf022"
      },
      "outputs": [
        {
          "data": {
            "text/html": [
              "<div>\n",
              "<style scoped>\n",
              "    .dataframe tbody tr th:only-of-type {\n",
              "        vertical-align: middle;\n",
              "    }\n",
              "\n",
              "    .dataframe tbody tr th {\n",
              "        vertical-align: top;\n",
              "    }\n",
              "\n",
              "    .dataframe thead th {\n",
              "        text-align: right;\n",
              "    }\n",
              "</style>\n",
              "<table border=\"1\" class=\"dataframe\">\n",
              "  <thead>\n",
              "    <tr style=\"text-align: right;\">\n",
              "      <th></th>\n",
              "      <th>Toxicity</th>\n",
              "      <th>tweet</th>\n",
              "    </tr>\n",
              "  </thead>\n",
              "  <tbody>\n",
              "    <tr>\n",
              "      <th>0</th>\n",
              "      <td>0</td>\n",
              "      <td>@user when a father is dysfunctional and is s...</td>\n",
              "    </tr>\n",
              "    <tr>\n",
              "      <th>1</th>\n",
              "      <td>0</td>\n",
              "      <td>@user @user thanks for #lyft credit i can't us...</td>\n",
              "    </tr>\n",
              "    <tr>\n",
              "      <th>2</th>\n",
              "      <td>0</td>\n",
              "      <td>bihday your majesty</td>\n",
              "    </tr>\n",
              "    <tr>\n",
              "      <th>3</th>\n",
              "      <td>0</td>\n",
              "      <td>#model   i love u take with u all the time in ...</td>\n",
              "    </tr>\n",
              "    <tr>\n",
              "      <th>4</th>\n",
              "      <td>0</td>\n",
              "      <td>factsguide: society now    #motivation</td>\n",
              "    </tr>\n",
              "  </tbody>\n",
              "</table>\n",
              "</div>"
            ],
            "text/plain": [
              "   Toxicity                                              tweet\n",
              "0         0   @user when a father is dysfunctional and is s...\n",
              "1         0  @user @user thanks for #lyft credit i can't us...\n",
              "2         0                                bihday your majesty\n",
              "3         0  #model   i love u take with u all the time in ...\n",
              "4         0             factsguide: society now    #motivation"
            ]
          },
          "execution_count": 45,
          "metadata": {},
          "output_type": "execute_result"
        }
      ],
      "source": [
        "data.head(5)"
      ]
    },
    {
      "cell_type": "code",
      "execution_count": 46,
      "metadata": {
        "colab": {
          "base_uri": "https://localhost:8080/"
        },
        "id": "sNGX6xFBMssC",
        "outputId": "b727de57-73b8-4a78-fe1c-193fef52684b"
      },
      "outputs": [
        {
          "data": {
            "text/plain": [
              "Toxicity\n",
              "0    32592\n",
              "1    24153\n",
              "Name: count, dtype: int64"
            ]
          },
          "execution_count": 46,
          "metadata": {},
          "output_type": "execute_result"
        }
      ],
      "source": [
        "data['Toxicity'].value_counts()"
      ]
    },
    {
      "cell_type": "code",
      "execution_count": 47,
      "metadata": {
        "colab": {
          "base_uri": "https://localhost:8080/"
        },
        "id": "A-VzDWf-Myjt",
        "outputId": "4389d105-9f44-402d-b2b3-23cc6d01fdee"
      },
      "outputs": [
        {
          "name": "stdout",
          "output_type": "stream",
          "text": [
            "Tokens: ['This', 'is', 'an', 'example', 'sentence', 'to', 'demonstrate', 'NLTK', 'usage', '.']\n",
            "POS Tags: [('This', 'DT'), ('is', 'VBZ'), ('an', 'DT'), ('example', 'NN'), ('sentence', 'NN'), ('to', 'TO'), ('demonstrate', 'VB'), ('NLTK', 'NNP'), ('usage', 'NN'), ('.', '.')]\n",
            "Stop Words: {'out', 'has', 'and', 's', 're', 'y', 'during', 'why', 'ours', 'for', 'was', 'again', 'but', 'each', \"you've\", 'here', 'very', 'wasn', 'him', 'weren', 'll', 'more', 'once', 'same', 'should', 'have', 'if', 'me', 'them', \"mightn't\", 'than', 'did', \"mustn't\", \"aren't\", \"you'll\", \"you're\", 'until', 'will', 'those', 'won', 'am', \"it's\", 'own', 'theirs', 'yourselves', 'which', 'when', 'through', 'the', 'on', 'been', 'having', 'itself', 'where', 'aren', 'doing', 'at', 'there', \"haven't\", 'couldn', 't', 'yours', 'a', 'its', 'is', 'off', 'against', \"didn't\", 'can', \"that'll\", 'some', 'had', 'wouldn', \"couldn't\", 'most', 'down', 'ain', 'mustn', 'who', 'does', \"should've\", 'over', 'how', 'of', 'he', \"hadn't\", 'don', 'her', 'their', \"shouldn't\", 'themselves', 'we', 'shouldn', 'yourself', 'mightn', 'before', 'whom', \"doesn't\", 'then', 'hers', 'an', 'i', 'they', 'his', 'any', 'nor', 'this', 'between', 'doesn', 'few', 'in', 'myself', \"needn't\", 'she', \"she's\", 'were', 'with', 'it', 'because', 'being', 'now', \"isn't\", 'just', 'needn', 'you', 'below', \"wouldn't\", 'ourselves', 'be', 'above', 'both', \"shan't\", 'after', 'herself', 'haven', \"weren't\", \"wasn't\", 'these', 'about', 'hadn', 'too', 'isn', 'by', 'up', 'under', 'what', 'd', 'not', \"won't\", 'further', 'all', 'shan', \"you'd\", 'so', \"don't\", 'such', 'or', 'my', 'while', 'into', 'are', 'as', 'm', 'o', 'from', 'to', 'himself', \"hasn't\", 'no', 'that', 'hasn', 'didn', 'ma', 'our', 'only', 'your', 'other', 've', 'do'}\n"
          ]
        },
        {
          "name": "stderr",
          "output_type": "stream",
          "text": [
            "[nltk_data] Downloading package punkt to\n",
            "[nltk_data]     C:\\Users\\Manas\\AppData\\Roaming\\nltk_data...\n",
            "[nltk_data]   Package punkt is already up-to-date!\n",
            "[nltk_data] Downloading package omw-1.4 to\n",
            "[nltk_data]     C:\\Users\\Manas\\AppData\\Roaming\\nltk_data...\n",
            "[nltk_data]   Package omw-1.4 is already up-to-date!\n",
            "[nltk_data] Downloading package wordnet to\n",
            "[nltk_data]     C:\\Users\\Manas\\AppData\\Roaming\\nltk_data...\n",
            "[nltk_data]   Package wordnet is already up-to-date!\n",
            "[nltk_data] Downloading package stopwords to\n",
            "[nltk_data]     C:\\Users\\Manas\\AppData\\Roaming\\nltk_data...\n",
            "[nltk_data]   Package stopwords is already up-to-date!\n",
            "[nltk_data] Downloading package averaged_perceptron_tagger to\n",
            "[nltk_data]     C:\\Users\\Manas\\AppData\\Roaming\\nltk_data...\n",
            "[nltk_data]   Package averaged_perceptron_tagger is already up-to-\n",
            "[nltk_data]       date!\n"
          ]
        }
      ],
      "source": [
        "import nltk\n",
        "\n",
        "# Download necessary NLTK datasets and models\n",
        "nltk.download('punkt')\n",
        "nltk.download('omw-1.4')\n",
        "nltk.download('wordnet')\n",
        "nltk.download('stopwords')\n",
        "nltk.download('averaged_perceptron_tagger')\n",
        "\n",
        "# Import necessary components from NLTK\n",
        "from nltk import WordNetLemmatizer\n",
        "from nltk import pos_tag, word_tokenize\n",
        "from nltk.corpus import stopwords as nltk_stopwords\n",
        "from nltk.corpus import wordnet\n",
        "\n",
        "\n",
        "# Example usage\n",
        "text = \"This is an example sentence to demonstrate NLTK usage.\"\n",
        "tokens = word_tokenize(text)\n",
        "pos_tags = pos_tag(tokens)\n",
        "lemmatizer = WordNetLemmatizer()\n",
        "stop_words = set(nltk_stopwords.words('english'))\n",
        "\n",
        "# Output results\n",
        "print(\"Tokens:\", tokens)\n",
        "print(\"POS Tags:\", pos_tags)\n",
        "print(\"Stop Words:\", stop_words)\n"
      ]
    },
    {
      "cell_type": "markdown",
      "metadata": {
        "id": "jToYvVpvNOm5"
      },
      "source": [
        "## Lemmatizer\n",
        "1. Leaves\n",
        "2. Leafs\n",
        "Leaf"
      ]
    },
    {
      "cell_type": "markdown",
      "metadata": {
        "id": "mWDjwiT9Qxf0"
      },
      "source": [
        "## Text pre-processing"
      ]
    },
    {
      "cell_type": "code",
      "execution_count": 48,
      "metadata": {
        "id": "bw_J1RlaNhPC"
      },
      "outputs": [],
      "source": [
        "wordnet_lemmatizer = WordNetLemmatizer()"
      ]
    },
    {
      "cell_type": "code",
      "execution_count": 49,
      "metadata": {
        "id": "V1XjDeHlN9WG"
      },
      "outputs": [],
      "source": [
        "import re"
      ]
    },
    {
      "cell_type": "code",
      "execution_count": 50,
      "metadata": {
        "id": "yTMwwHISNoLE"
      },
      "outputs": [],
      "source": [
        "def prepare_text(text):\n",
        "    def get_wordnet_pos(treebank_tag):\n",
        "        if treebank_tag.startswith('J'):\n",
        "            return wordnet.ADJ\n",
        "        elif treebank_tag.startswith('V'):\n",
        "            return wordnet.VERB\n",
        "        elif treebank_tag.startswith('N'):\n",
        "            return wordnet.NOUN\n",
        "        elif treebank_tag.startswith('R'):\n",
        "            return wordnet.ADV\n",
        "        else:\n",
        "            return wordnet.NOUN\n",
        "    text = re.sub(r'[^a-zA-Z\\']', ' ', text)\n",
        "    text = text.split()\n",
        "    text = ' '.join(text)\n",
        "    text = word_tokenize(text)\n",
        "    text = pos_tag(text)\n",
        "    lemma = []\n",
        "    for i in text: lemma.append(wordnet_lemmatizer.lemmatize(i[0], pos = get_wordnet_pos(i[1])))\n",
        "    lemma = ' '.join(lemma)\n",
        "    return lemma"
      ]
    },
    {
      "cell_type": "code",
      "execution_count": 51,
      "metadata": {
        "id": "0eO6r4KoOJWi"
      },
      "outputs": [],
      "source": [
        "data['clean_tweets'] = data['tweet'].apply(lambda x: prepare_text(x))"
      ]
    },
    {
      "cell_type": "code",
      "execution_count": 52,
      "metadata": {
        "colab": {
          "base_uri": "https://localhost:8080/",
          "height": 206
        },
        "id": "bD5JoV3cOWwC",
        "outputId": "90362692-a72a-43c7-e237-d64accdd1c30"
      },
      "outputs": [
        {
          "data": {
            "text/html": [
              "<div>\n",
              "<style scoped>\n",
              "    .dataframe tbody tr th:only-of-type {\n",
              "        vertical-align: middle;\n",
              "    }\n",
              "\n",
              "    .dataframe tbody tr th {\n",
              "        vertical-align: top;\n",
              "    }\n",
              "\n",
              "    .dataframe thead th {\n",
              "        text-align: right;\n",
              "    }\n",
              "</style>\n",
              "<table border=\"1\" class=\"dataframe\">\n",
              "  <thead>\n",
              "    <tr style=\"text-align: right;\">\n",
              "      <th></th>\n",
              "      <th>Toxicity</th>\n",
              "      <th>tweet</th>\n",
              "      <th>clean_tweets</th>\n",
              "    </tr>\n",
              "  </thead>\n",
              "  <tbody>\n",
              "    <tr>\n",
              "      <th>0</th>\n",
              "      <td>0</td>\n",
              "      <td>@user when a father is dysfunctional and is s...</td>\n",
              "      <td>user when a father be dysfunctional and be so ...</td>\n",
              "    </tr>\n",
              "    <tr>\n",
              "      <th>1</th>\n",
              "      <td>0</td>\n",
              "      <td>@user @user thanks for #lyft credit i can't us...</td>\n",
              "      <td>user user thanks for lyft credit i ca n't use ...</td>\n",
              "    </tr>\n",
              "    <tr>\n",
              "      <th>2</th>\n",
              "      <td>0</td>\n",
              "      <td>bihday your majesty</td>\n",
              "      <td>bihday your majesty</td>\n",
              "    </tr>\n",
              "    <tr>\n",
              "      <th>3</th>\n",
              "      <td>0</td>\n",
              "      <td>#model   i love u take with u all the time in ...</td>\n",
              "      <td>model i love u take with u all the time in ur</td>\n",
              "    </tr>\n",
              "    <tr>\n",
              "      <th>4</th>\n",
              "      <td>0</td>\n",
              "      <td>factsguide: society now    #motivation</td>\n",
              "      <td>factsguide society now motivation</td>\n",
              "    </tr>\n",
              "  </tbody>\n",
              "</table>\n",
              "</div>"
            ],
            "text/plain": [
              "   Toxicity                                              tweet  \\\n",
              "0         0   @user when a father is dysfunctional and is s...   \n",
              "1         0  @user @user thanks for #lyft credit i can't us...   \n",
              "2         0                                bihday your majesty   \n",
              "3         0  #model   i love u take with u all the time in ...   \n",
              "4         0             factsguide: society now    #motivation   \n",
              "\n",
              "                                        clean_tweets  \n",
              "0  user when a father be dysfunctional and be so ...  \n",
              "1  user user thanks for lyft credit i ca n't use ...  \n",
              "2                                bihday your majesty  \n",
              "3      model i love u take with u all the time in ur  \n",
              "4                  factsguide society now motivation  "
            ]
          },
          "execution_count": 52,
          "metadata": {},
          "output_type": "execute_result"
        }
      ],
      "source": [
        "data.head(5)"
      ]
    },
    {
      "cell_type": "markdown",
      "metadata": {
        "id": "P_KtZVgNQtNF"
      },
      "source": [
        "## Tfidf for features"
      ]
    },
    {
      "cell_type": "code",
      "execution_count": 53,
      "metadata": {
        "id": "Y0NaPpiBOoKz"
      },
      "outputs": [],
      "source": [
        "from sklearn.feature_extraction.text import TfidfVectorizer\n",
        "from sklearn.model_selection import train_test_split \n",
        "from sklearn.naive_bayes import MultinomialNB\n",
        "from sklearn.metrics import roc_auc_score\n",
        "from sklearn.metrics import roc_curve"
      ]
    },
    {
      "cell_type": "code",
      "execution_count": 54,
      "metadata": {
        "id": "hyQ_YaHTPOY9"
      },
      "outputs": [],
      "source": [
        "corpus = data['clean_tweets'].values.astype('U')"
      ]
    },
    {
      "cell_type": "code",
      "execution_count": 55,
      "metadata": {
        "id": "_WzC3BdKPdco"
      },
      "outputs": [],
      "source": [
        "stopwords = set(nltk_stopwords.words('english'))"
      ]
    },
    {
      "cell_type": "code",
      "execution_count": 57,
      "metadata": {
        "id": "AHi3KB6DPlpD"
      },
      "outputs": [],
      "source": [
        "from nltk.corpus import stopwords\n",
        "\n",
        "stop_words = stopwords.words('english')\n",
        "\n",
        "count_tf_idf = TfidfVectorizer(stop_words=stop_words)\n",
        "tf_idf = count_tf_idf.fit_transform(corpus)"
      ]
    },
    {
      "cell_type": "code",
      "execution_count": 58,
      "metadata": {
        "id": "1Q8110GEPyan"
      },
      "outputs": [],
      "source": [
        "import pickle"
      ]
    },
    {
      "cell_type": "code",
      "execution_count": 59,
      "metadata": {
        "id": "-iWeOZ_SP_1d"
      },
      "outputs": [],
      "source": [
        "pickle.dump(count_tf_idf, open(\"tf_idf.pkt\", \"wb\"))"
      ]
    },
    {
      "cell_type": "code",
      "execution_count": 60,
      "metadata": {
        "id": "htB2CjewQKID"
      },
      "outputs": [],
      "source": [
        "tf_idf_train, tf_idf_test, target_train, target_test = train_test_split(\n",
        "    tf_idf, data['Toxicity'], test_size = 0.8, random_state= 42, shuffle=True\n",
        ")"
      ]
    },
    {
      "cell_type": "markdown",
      "metadata": {
        "id": "c0-Cg6p0Qpgo"
      },
      "source": [
        "## Create a Binary Classification Model"
      ]
    },
    {
      "cell_type": "code",
      "execution_count": 61,
      "metadata": {
        "id": "Qom6FLiAQnxj"
      },
      "outputs": [],
      "source": [
        "model_bayes = MultinomialNB()"
      ]
    },
    {
      "cell_type": "code",
      "execution_count": 63,
      "metadata": {
        "id": "vL3lmsK_Q3E3"
      },
      "outputs": [],
      "source": [
        "model_bayes = model_bayes.fit(tf_idf_train, target_train)"
      ]
    },
    {
      "cell_type": "code",
      "execution_count": 64,
      "metadata": {
        "id": "v3OackkiQ_w9"
      },
      "outputs": [],
      "source": [
        "y_pred_proba = model_bayes.predict_proba(tf_idf_test)[::, 1]"
      ]
    },
    {
      "cell_type": "code",
      "execution_count": 65,
      "metadata": {
        "colab": {
          "base_uri": "https://localhost:8080/"
        },
        "id": "oxYgRZ1pRK6F",
        "outputId": "ddb11532-43ea-4092-f9e8-478015c7a7de"
      },
      "outputs": [
        {
          "data": {
            "text/plain": [
              "array([0.90152453, 0.27916787, 0.79021827, ..., 0.09487729, 0.20555162,\n",
              "       0.32090192])"
            ]
          },
          "execution_count": 65,
          "metadata": {},
          "output_type": "execute_result"
        }
      ],
      "source": [
        "y_pred_proba"
      ]
    },
    {
      "cell_type": "code",
      "execution_count": 66,
      "metadata": {
        "id": "ff_uDpB0RL0u"
      },
      "outputs": [],
      "source": [
        "fpr, tpr, _ = roc_curve(target_test, y_pred_proba)"
      ]
    },
    {
      "cell_type": "code",
      "execution_count": 67,
      "metadata": {
        "id": "ZDkRbR0FRVPR"
      },
      "outputs": [],
      "source": [
        "final_roc_auc = roc_auc_score(target_test, y_pred_proba)"
      ]
    },
    {
      "cell_type": "code",
      "execution_count": 68,
      "metadata": {
        "colab": {
          "base_uri": "https://localhost:8080/"
        },
        "id": "7Np8WoL8RdTU",
        "outputId": "5899223b-0377-486b-a300-899cb8676d25"
      },
      "outputs": [
        {
          "data": {
            "text/plain": [
              "0.9658691315317345"
            ]
          },
          "execution_count": 68,
          "metadata": {},
          "output_type": "execute_result"
        }
      ],
      "source": [
        "final_roc_auc"
      ]
    },
    {
      "cell_type": "code",
      "execution_count": 69,
      "metadata": {
        "colab": {
          "base_uri": "https://localhost:8080/",
          "height": 52
        },
        "id": "mwxbdiFiRenL",
        "outputId": "fe4db2e1-216c-4a0b-fd39-fcb544b42da0"
      },
      "outputs": [
        {
          "data": {
            "text/plain": [
              "array([[0.39920068, 0.60079932]])"
            ]
          },
          "metadata": {},
          "output_type": "display_data"
        },
        {
          "data": {
            "text/plain": [
              "array([1], dtype=int64)"
            ]
          },
          "metadata": {},
          "output_type": "display_data"
        }
      ],
      "source": [
        "test_text = \"I hate you moron\"\n",
        "test_tfidf = count_tf_idf.transform([test_text])\n",
        "display(model_bayes.predict_proba(test_tfidf))\n",
        "display(model_bayes.predict(test_tfidf))"
      ]
    },
    {
      "cell_type": "markdown",
      "metadata": {
        "id": "9RcDE-QPSTdL"
      },
      "source": [
        "## Save the model"
      ]
    },
    {
      "cell_type": "code",
      "execution_count": 70,
      "metadata": {
        "id": "1acnhnVzR-KL"
      },
      "outputs": [],
      "source": [
        "pickle.dump(model_bayes, open(\"toxicity_model.pkt\", \"wb\"))"
      ]
    },
    {
      "cell_type": "code",
      "execution_count": null,
      "metadata": {
        "id": "de3OUE2AScCS"
      },
      "outputs": [],
      "source": []
    }
  ],
  "metadata": {
    "colab": {
      "provenance": []
    },
    "kernelspec": {
      "display_name": "Python 3",
      "name": "python3"
    },
    "language_info": {
      "codemirror_mode": {
        "name": "ipython",
        "version": 3
      },
      "file_extension": ".py",
      "mimetype": "text/x-python",
      "name": "python",
      "nbconvert_exporter": "python",
      "pygments_lexer": "ipython3",
      "version": "3.10.14"
    }
  },
  "nbformat": 4,
  "nbformat_minor": 0
}
